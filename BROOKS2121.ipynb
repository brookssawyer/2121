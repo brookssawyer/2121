{
 "cells": [
  {
   "cell_type": "code",
   "execution_count": 1,
   "id": "e38b1810",
   "metadata": {},
   "outputs": [],
   "source": [
    "import numpy as np\n",
    "import pandas as pd\n",
    "import csv\n",
    "import math\n",
    "import seaborn as sns\n",
    "import matplotlib.pyplot as plt\n",
    "import numpy_financial as npf\n",
    "import datetime"
   ]
  },
  {
   "cell_type": "code",
   "execution_count": 2,
   "id": "de07aff4",
   "metadata": {},
   "outputs": [],
   "source": [
    "def homeAmount():\n",
    "    print(\"Enter Home Amount Rounded to Nearest Whole Dollar (1 to 576000):\")\n",
    "    print(\"Example: If Home Price is $249,999.99, it should be input as 250000\")            \n",
    "    while True:\n",
    "        try:\n",
    "            #user input must be an integer\n",
    "            number = int(input())\n",
    "            #user input integer must be between 1 and 576000\n",
    "            if 1 <= number <= 576000:\n",
    "                return(number)\n",
    "                break\n",
    "            #if input is not an integer and/or it isn't between 1 and 576000, ask for user to input again\n",
    "            raise ValueError()\n",
    "        except ValueError:\n",
    "            print(\"Enter Whole Number between 1 and 576000\")\n",
    "            \n",
    "            \n",
    "            \n",
    "            "
   ]
  },
  {
   "cell_type": "code",
   "execution_count": 3,
   "id": "4bd2f9eb",
   "metadata": {},
   "outputs": [],
   "source": [
    "#downPayment asks user to input down payment, checks conditions, and returns integer\n",
    "def downPayment():\n",
    "    print(\"Enter Downpayment as a Percentage of Home Value Rounded to Nearest Whole Number (1 to 35):\")\n",
    "    print(\"Example: If Down Payment is 20%, it should be input as 20\")\n",
    "    while True:\n",
    "        try:\n",
    "            #user input must be an integer\n",
    "            number = int(input())\n",
    "            #user input integer must be between 1 and 35\n",
    "            if 1 <= number <= 35:\n",
    "                return(number)\n",
    "                break\n",
    "            raise ValueError()\n",
    "        except ValueError:\n",
    "            print(\"Enter Whole Number between 1 and 35\")"
   ]
  },
  {
   "cell_type": "code",
   "execution_count": 4,
   "id": "6fc135f7",
   "metadata": {},
   "outputs": [],
   "source": [
    "##fix 2.44      number*10 is int\n",
    "#interestRate asks user to input interest rate, checks conditions, and returns float\n",
    "def interestRate():\n",
    "    print(\"Enter Interest Rate as an Annual Percentage Rounded to the Nearest Tenth (1.0 to 3.5):\")\n",
    "    print(\"Example: If Interest Rate is 2%, it should be input as 2.0\")\n",
    "    while True:\n",
    "        try:        \n",
    "            number = float(input())\n",
    "            y = str(number).split('.')\n",
    "            if len(y[-1]) != 1:\n",
    "                raise ValueError()\n",
    "            #check = number*10\n",
    "            #if check is int, good\n",
    "            if 1.0 <= number <= 3.5:\n",
    "                return(number)\n",
    "                break\n",
    "            raise ValueError()\n",
    "        except ValueError:\n",
    "            print(\"Enter Number with 1 Decimal between 1.0 and 3.5\")\n",
    "    "
   ]
  },
  {
   "cell_type": "code",
   "execution_count": 5,
   "id": "9f99ef41",
   "metadata": {},
   "outputs": [],
   "source": [
    "        \n",
    "\n",
    "#loanLength asks user to input length of loan in years, checks conditions, and returns int\n",
    "def loanLength():\n",
    "    print(\"Enter Length of Loan in Years Rounded to Nearest Whole Year (5 - 30):\")\n",
    "    print(\"Example: If Loan Length is 20 years, it should be input as 20\")\n",
    "    while True:\n",
    "        try:        \n",
    "            number = int(input())\n",
    "            if 5 <= number <= 30:\n",
    "                return(number)\n",
    "                break\n",
    "            raise ValueError()\n",
    "        except ValueError:\n",
    "            print(\"Enter Whole Number between 5 and 30\")"
   ]
  },
  {
   "cell_type": "code",
   "execution_count": 6,
   "id": "3f257f5a",
   "metadata": {},
   "outputs": [],
   "source": [
    "#numberPayments asks user to input the payment frequency per year, allows 1 of 3 choices, and returns int\n",
    "def numberPayments():\n",
    "    print(\"Enter Number of Payments per Year (12, 24, or 26):\")\n",
    "    print(\"Enter 12 for 1 Payment per Month, 24 for 2 Payments per Month, or 26 for 1 Payment Every 2 Weeks\")\n",
    "    while True:\n",
    "        try:        \n",
    "            number = int(input())\n",
    "            if number == 12:\n",
    "                return(number)\n",
    "                break\n",
    "            elif number == 24:\n",
    "                return(number)\n",
    "                break\n",
    "            elif number == 26:\n",
    "                return(number)\n",
    "                break\n",
    "            raise ValueError()\n",
    "        except ValueError:\n",
    "            print(\"Enter 12, 24, or 26\")\n",
    "            "
   ]
  },
  {
   "cell_type": "code",
   "execution_count": 7,
   "id": "314d1a98",
   "metadata": {},
   "outputs": [],
   "source": [
    "            \n",
    "#repaymentStartDate asks user to input year, month, and date as the start date of the loan, checks if date is valid, and returns datetime object\n",
    "def repaymentStartDate():\n",
    "    print(\"Enter Start Date of Loan Repayment in 3 Parts (Year,Month,Day):\")\n",
    "    while True:\n",
    "        try:        \n",
    "            year = int(input(\"Enter the Year (Example:2022) \"))\n",
    "            if 2020 <= year:\n",
    "                month = int(input(\"Enter the Month (Example:February = 2) \"))\n",
    "                if 1 <= month <=12:\n",
    "                    day=int(input(\"Enter the Day (Example 13th = 13) \"))\n",
    "                    #checks if date is valid for any given year, month, so that it rejects September 31 or February 30 etc\n",
    "                    maxdate=datetime.datetime(year, (month+1)%12, 1) - datetime.timedelta(days=1)\n",
    "                    if 1 <= day <= int(maxdate.day):\n",
    "                        \n",
    "                        return datetime.datetime(year,month,day)\n",
    "                        break\n",
    "                    raise ValueError()\n",
    "                raise ValueError()\n",
    "            raise ValueError()\n",
    "        except ValueError:\n",
    "            print(\"Invalid Year, Month, or Day\")  "
   ]
  },
  {
   "cell_type": "code",
   "execution_count": 8,
   "id": "f6424195",
   "metadata": {},
   "outputs": [],
   "source": [
    "#extraPayment asks user for additional payments made on loan at their regularly scheduled payment interval, checks for conditions, returns int\n",
    "def extraPayment():\n",
    "    print(\"Enter Additional Payment per Pay Pay Period Rounded to Nearest Whole Dollar:\")\n",
    "    print(\"Example: If Extra Payment is $1250.00, it should be input as 1250\")\n",
    "    print(\"Enter 0 if you do not want to add any extra payments\")\n",
    "    while True:\n",
    "        try:        \n",
    "            number = int(input())\n",
    "            if 0 <= number:\n",
    "                return(number)\n",
    "                break\n",
    "            raise ValueError()\n",
    "        except ValueError:\n",
    "            print(\"Enter Whole Number 0 or greater\")"
   ]
  },
  {
   "cell_type": "code",
   "execution_count": 9,
   "id": "0dc41c8b",
   "metadata": {},
   "outputs": [],
   "source": [
    "#loanQualifier takes the down_payment and principal loan amount, and determines if the application qualifies for 0,1,2, or 3 loan types, returns string with answer\n",
    "def loanQualifier(down_payment,principal):\n",
    "    #create empty list and append elements to list if conditions are met\n",
    "    list_qualifiers=[]\n",
    "    if principal < 300000:\n",
    "        if down_payment > 2:\n",
    "            list_qualifiers.append(\"FHA\")\n",
    "    if principal < 480000:\n",
    "        list_qualifiers.append(\"VA\")\n",
    "        if down_payment > 3.5:\n",
    "            list_qualifiers.append(\"Conventional\")\n",
    "    #convert list to strings for human readability        \n",
    "    st=' and '.join(list_qualifiers)\n",
    "    st= 'This application qualifies for '+str(len(list_qualifiers))+' loans: '+st\n",
    "    return st"
   ]
  },
  {
   "cell_type": "code",
   "execution_count": 10,
   "id": "e119b28e",
   "metadata": {},
   "outputs": [],
   "source": [
    "#mortgageGenerator is a generator function used for calculations in mortgageCalculator function below:\n",
    "def mortgageGenerator(principal, rate, payment, additional_payment):\n",
    "    amount = payment + additional_payment\n",
    "    while principal > 0:\n",
    "        period_interest = round(principal*rate,2)\n",
    "        principal_reduction = min(principal, amount - period_interest)\n",
    "        principal = principal - principal_reduction\n",
    "        yield principal_reduction, period_interest, principal\n",
    "        "
   ]
  },
  {
   "cell_type": "code",
   "execution_count": 11,
   "id": "f8d06439",
   "metadata": {},
   "outputs": [],
   "source": [
    "#mortgageCalculator takes all financial date gathered from user input, performs several financial calculations, and returns the full payoff schedule as a pandas df        \n",
    "def mortgageCalculator(interest_rate, years, payments_year, principal, addl_principal=0, start_date=datetime.datetime.today()):\n",
    "    #Calculate the fixed payment \n",
    "    period_rate = interest_rate/(payments_year * 100)\n",
    "    payment = round(-1 * npf.pmt(period_rate, years*payments_year, principal),2)\n",
    "    \n",
    "    #Generate the period details schedule\n",
    "    df = pd.DataFrame(list(mortgageGenerator(principal, period_rate, payment, addl_principal)), \t\tcolumns=[\"Principal\", \"Interest\", \"Ending Balance\"])\n",
    "    df[\"Extra Payment\"] = addl_principal\n",
    "    df[\"Total Payment\"] = df[\"Principal\"] + df[\"Interest\"]\n",
    "    \n",
    "    #the freq argument changes depending on the number of payments per year payment\n",
    "    if payments_year==12:\n",
    "        payment_dates = pd.date_range(start_date, periods=len(df.index), freq='M')\n",
    "    elif payments_year == 24:\n",
    "        payment_dates = pd.date_range(start_date, periods=len(df.index), freq='SM')\n",
    "    elif payments_year == 26:\n",
    "        payment_dates = pd.date_range(start_date, periods=len(df.index), freq='2W')\n",
    "        \n",
    "    \n",
    "    \n",
    "    \n",
    "    \n",
    "    \n",
    "    df.insert(0,\"Payment Date\", payment_dates)\n",
    "    df.index += 1\n",
    "    df.index.name = \"Payment Number\"\n",
    "    df['Scheduled Payment']=payment\n",
    "    df['Beginning Balance']=df['Ending Balance'].shift(1)\n",
    "    df['Beginning Balance'].iloc[0]=principal\n",
    "    if df['Beginning Balance'].loc[df.shape[0]]<df['Scheduled Payment'].loc[df.shape[0]]:\n",
    "        df['Extra Payment'].loc[df.shape[0]]=0\n",
    "        df['Total Payment'].loc[df.shape[0]]=df['Beginning Balance'].loc[df.shape[0]]\n",
    "    else:\n",
    "        df['Extra Payment'].loc[df.shape[0]]=df['Total Payment'].loc[df.shape[0]]-payment\n",
    "    return(df)\n",
    "\n",
    "         "
   ]
  },
  {
   "cell_type": "code",
   "execution_count": 12,
   "id": "51d043fd",
   "metadata": {},
   "outputs": [
    {
     "name": "stdout",
     "output_type": "stream",
     "text": [
      "Enter Home Amount Rounded to Nearest Whole Dollar (1 to 576000):\n",
      "Example: If Home Price is $249,999.99, it should be input as 250000\n",
      "240000\n",
      "Enter Downpayment as a Percentage of Home Value Rounded to Nearest Whole Number (1 to 35):\n",
      "Example: If Down Payment is 20%, it should be input as 20\n",
      "12\n",
      "Enter Interest Rate as an Annual Percentage Rounded to the Nearest Tenth (1.0 to 3.5):\n",
      "Example: If Interest Rate is 2%, it should be input as 2.0\n",
      "2.0\n",
      "Enter Length of Loan in Years Rounded to Nearest Whole Year (5 - 30):\n",
      "Example: If Loan Length is 20 years, it should be input as 20\n",
      "12\n",
      "Enter Number of Payments per Year (12, 24, or 26):\n",
      "Enter 12 for 1 Payment per Month, 24 for 2 Payments per Month, or 26 for 1 Payment Every 2 Weeks\n",
      "12\n",
      "Enter Start Date of Loan Repayment in 3 Parts (Year,Month,Day):\n",
      "Enter the Year (Example:2022) 2022\n",
      "Enter the Month (Example:February = 2) 2\n",
      "Enter the Day (Example 13th = 13) 2\n",
      "Enter Additional Payment per Pay Pay Period Rounded to Nearest Whole Dollar:\n",
      "Example: If Extra Payment is $1250.00, it should be input as 1250\n",
      "Enter 0 if you do not want to add any extra payments\n",
      "0\n"
     ]
    }
   ],
   "source": [
    "#run all functions to gather user import for loan application\n",
    "home_amount=homeAmount()            \n",
    "down_payment=downPayment()\n",
    "principal=home_amount-down_payment*home_amount/100            \n",
    "interest_rate=interestRate()  \n",
    "years=loanLength()      \n",
    "payments_year=numberPayments()            \n",
    "start_date=repaymentStartDate()             \n",
    "addl_principal = extraPayment()"
   ]
  },
  {
   "cell_type": "code",
   "execution_count": 14,
   "id": "f028747e",
   "metadata": {},
   "outputs": [
    {
     "data": {
      "text/plain": [
       "'This application qualifies for 3 loans: FHA and VA and Conventional'"
      ]
     },
     "execution_count": 14,
     "metadata": {},
     "output_type": "execute_result"
    }
   ],
   "source": [
    "#check which loan types the application qualifies for \n",
    "loanQualifier(down_payment,principal)"
   ]
  },
  {
   "cell_type": "code",
   "execution_count": null,
   "id": "4c45d3b8",
   "metadata": {},
   "outputs": [],
   "source": []
  },
  {
   "cell_type": "code",
   "execution_count": null,
   "id": "feb2712a",
   "metadata": {},
   "outputs": [],
   "source": []
  }
 ],
 "metadata": {
  "kernelspec": {
   "display_name": "Python 3 (ipykernel)",
   "language": "python",
   "name": "python3"
  },
  "language_info": {
   "codemirror_mode": {
    "name": "ipython",
    "version": 3
   },
   "file_extension": ".py",
   "mimetype": "text/x-python",
   "name": "python",
   "nbconvert_exporter": "python",
   "pygments_lexer": "ipython3",
   "version": "3.9.7"
  }
 },
 "nbformat": 4,
 "nbformat_minor": 5
}
